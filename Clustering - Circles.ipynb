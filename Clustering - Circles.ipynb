{
 "cells": [
  {
   "cell_type": "markdown",
   "metadata": {
    "id": "K6uszEF-tg6Q"
   },
   "source": [
    "# Unsupervised Machine Learning - KMeans\n",
    "\n",
    "Support vector machines (SVMs) are a set of supervised learning methods used for classification, regression and outliers detection. SVMs are one of the most robust prediction methods. \n",
    "\n",
    "Sources: \n",
    "[sklearn](https://scikit-learn.org/stable/modules/generated/sklearn.cluster.KMeans.html?highlight=kmeans#sklearn.cluster.KMeans), [wikipedia](https://en.wikipedia.org/wiki/K-means_clustering)"
   ]
  },
  {
   "cell_type": "markdown",
   "metadata": {
    "id": "fUB89AR6C5Br"
   },
   "source": [
    "![kmeans.png](https://www.mathworks.com/matlabcentral/mlc-downloads/downloads/submissions/52579/versions/9/screenshot.jpg)"
   ]
  },
  {
   "cell_type": "code",
   "execution_count": null,
   "metadata": {},
   "outputs": [],
   "source": []
  },
  {
   "cell_type": "code",
   "execution_count": 2,
   "metadata": {},
   "outputs": [],
   "source": [
    "import pandas as pd\n",
    "import numpy as np\n",
    "import matplotlib.pyplot as plt\n",
    "from sklearn import datasets\n"
   ]
  },
  {
   "cell_type": "code",
   "execution_count": 10,
   "metadata": {},
   "outputs": [],
   "source": [
    "data_ = datasets.make_circles(100)"
   ]
  },
  {
   "cell_type": "code",
   "execution_count": 11,
   "metadata": {},
   "outputs": [
    {
     "data": {
      "text/plain": [
       "(array([[ 5.02324156e-02,  7.98421383e-01],\n",
       "        [ 9.68583161e-01,  2.48689887e-01],\n",
       "        [-8.76306680e-01,  4.81753674e-01],\n",
       "        [-5.83174902e-01,  5.47637685e-01],\n",
       "        [-4.28661436e-01,  6.75462340e-01],\n",
       "        [ 7.43821189e-01, -2.94499642e-01],\n",
       "        [-5.09939192e-01,  6.16410594e-01],\n",
       "        [ 8.00000000e-01,  0.00000000e+00],\n",
       "        [-2.47213595e-01, -7.60845213e-01],\n",
       "        [-7.43821189e-01, -2.94499642e-01],\n",
       "        [ 9.68583161e-01, -2.48689887e-01],\n",
       "        [ 6.47213595e-01,  4.70228202e-01],\n",
       "        [ 2.47213595e-01, -7.60845213e-01],\n",
       "        [-1.87381315e-01,  9.82287251e-01],\n",
       "        [-2.47213595e-01,  7.60845213e-01],\n",
       "        [ 5.35826795e-01,  8.44327926e-01],\n",
       "        [-7.28968627e-01,  6.84547106e-01],\n",
       "        [-3.09016994e-01, -9.51056516e-01],\n",
       "        [ 5.09939192e-01, -6.16410594e-01],\n",
       "        [-5.02324156e-02,  7.98421383e-01],\n",
       "        [-9.92114701e-01,  1.25333234e-01],\n",
       "        [ 6.37423990e-01, -7.70513243e-01],\n",
       "        [ 8.76306680e-01, -4.81753674e-01],\n",
       "        [ 8.76306680e-01,  4.81753674e-01],\n",
       "        [-4.28661436e-01, -6.75462340e-01],\n",
       "        [ 5.35826795e-01, -8.44327926e-01],\n",
       "        [-1.49905052e-01,  7.85829801e-01],\n",
       "        [-3.40623433e-01,  7.23861642e-01],\n",
       "        [ 5.02324156e-02, -7.98421383e-01],\n",
       "        [-5.35826795e-01,  8.44327926e-01],\n",
       "        [-7.01045344e-01,  3.85402939e-01],\n",
       "        [-7.93691761e-01,  1.00266587e-01],\n",
       "        [ 1.87381315e-01,  9.82287251e-01],\n",
       "        [ 2.47213595e-01,  7.60845213e-01],\n",
       "        [ 3.40623433e-01, -7.23861642e-01],\n",
       "        [-9.29776486e-01,  3.68124553e-01],\n",
       "        [ 3.09016994e-01,  9.51056516e-01],\n",
       "        [-3.40623433e-01, -7.23861642e-01],\n",
       "        [ 6.27905195e-02, -9.98026728e-01],\n",
       "        [-5.09939192e-01, -6.16410594e-01],\n",
       "        [ 7.28968627e-01, -6.84547106e-01],\n",
       "        [-6.37423990e-01,  7.70513243e-01],\n",
       "        [ 5.09939192e-01,  6.16410594e-01],\n",
       "        [-7.28968627e-01, -6.84547106e-01],\n",
       "        [-6.37423990e-01, -7.70513243e-01],\n",
       "        [ 9.92114701e-01,  1.25333234e-01],\n",
       "        [-6.47213595e-01, -4.70228202e-01],\n",
       "        [-7.01045344e-01, -3.85402939e-01],\n",
       "        [ 4.28661436e-01, -6.75462340e-01],\n",
       "        [-8.00000000e-01, -2.57299624e-16],\n",
       "        [-5.02324156e-02, -7.98421383e-01],\n",
       "        [ 7.01045344e-01,  3.85402939e-01],\n",
       "        [ 4.28661436e-01,  6.75462340e-01],\n",
       "        [-9.68583161e-01,  2.48689887e-01],\n",
       "        [-1.49905052e-01, -7.85829801e-01],\n",
       "        [ 9.29776486e-01,  3.68124553e-01],\n",
       "        [-9.92114701e-01, -1.25333234e-01],\n",
       "        [-7.74866529e-01,  1.98951910e-01],\n",
       "        [-1.00000000e+00, -3.21624530e-16],\n",
       "        [ 7.01045344e-01, -3.85402939e-01],\n",
       "        [ 1.49905052e-01,  7.85829801e-01],\n",
       "        [ 4.25779292e-01,  9.04827052e-01],\n",
       "        [-7.43821189e-01,  2.94499642e-01],\n",
       "        [ 1.49905052e-01, -7.85829801e-01],\n",
       "        [ 3.40623433e-01,  7.23861642e-01],\n",
       "        [-6.27905195e-02,  9.98026728e-01],\n",
       "        [-9.29776486e-01, -3.68124553e-01],\n",
       "        [-3.09016994e-01,  9.51056516e-01],\n",
       "        [ 7.93691761e-01,  1.00266587e-01],\n",
       "        [-7.93691761e-01, -1.00266587e-01],\n",
       "        [ 6.47213595e-01, -4.70228202e-01],\n",
       "        [-9.68583161e-01, -2.48689887e-01],\n",
       "        [ 6.37423990e-01,  7.70513243e-01],\n",
       "        [ 1.87381315e-01, -9.82287251e-01],\n",
       "        [ 7.43821189e-01,  2.94499642e-01],\n",
       "        [-5.35826795e-01, -8.44327926e-01],\n",
       "        [-5.83174902e-01, -5.47637685e-01],\n",
       "        [-7.74866529e-01, -1.98951910e-01],\n",
       "        [-1.87381315e-01, -9.82287251e-01],\n",
       "        [-8.09016994e-01,  5.87785252e-01],\n",
       "        [-6.47213595e-01,  4.70228202e-01],\n",
       "        [ 7.93691761e-01, -1.00266587e-01],\n",
       "        [ 5.83174902e-01, -5.47637685e-01],\n",
       "        [ 8.09016994e-01,  5.87785252e-01],\n",
       "        [ 9.92114701e-01, -1.25333234e-01],\n",
       "        [ 5.83174902e-01,  5.47637685e-01],\n",
       "        [ 9.29776486e-01, -3.68124553e-01],\n",
       "        [ 3.09016994e-01, -9.51056516e-01],\n",
       "        [-8.76306680e-01, -4.81753674e-01],\n",
       "        [-8.09016994e-01, -5.87785252e-01],\n",
       "        [-4.25779292e-01,  9.04827052e-01],\n",
       "        [ 7.28968627e-01,  6.84547106e-01],\n",
       "        [ 7.74866529e-01, -1.98951910e-01],\n",
       "        [ 4.25779292e-01, -9.04827052e-01],\n",
       "        [ 6.27905195e-02,  9.98026728e-01],\n",
       "        [ 7.74866529e-01,  1.98951910e-01],\n",
       "        [-6.27905195e-02, -9.98026728e-01],\n",
       "        [-4.25779292e-01, -9.04827052e-01],\n",
       "        [ 8.09016994e-01, -5.87785252e-01],\n",
       "        [ 1.00000000e+00,  0.00000000e+00]]),\n",
       " array([1, 0, 0, 1, 1, 1, 1, 1, 1, 1, 0, 1, 1, 0, 1, 0, 0, 0, 1, 1, 0, 0,\n",
       "        0, 0, 1, 0, 1, 1, 1, 0, 1, 1, 0, 1, 1, 0, 0, 1, 0, 1, 0, 0, 1, 0,\n",
       "        0, 0, 1, 1, 1, 1, 1, 1, 1, 0, 1, 0, 0, 1, 0, 1, 1, 0, 1, 1, 1, 0,\n",
       "        0, 0, 1, 1, 1, 0, 0, 0, 1, 0, 1, 1, 0, 0, 1, 1, 1, 0, 0, 1, 0, 0,\n",
       "        0, 0, 0, 0, 1, 0, 0, 1, 0, 0, 0, 0], dtype=int64))"
      ]
     },
     "execution_count": 11,
     "metadata": {},
     "output_type": "execute_result"
    }
   ],
   "source": [
    "data_"
   ]
  },
  {
   "cell_type": "code",
   "execution_count": 15,
   "metadata": {},
   "outputs": [],
   "source": [
    "inputData = pd.DataFrame(data = data_[0])"
   ]
  },
  {
   "cell_type": "code",
   "execution_count": 18,
   "metadata": {},
   "outputs": [
    {
     "data": {
      "text/html": [
       "<div>\n",
       "<style scoped>\n",
       "    .dataframe tbody tr th:only-of-type {\n",
       "        vertical-align: middle;\n",
       "    }\n",
       "\n",
       "    .dataframe tbody tr th {\n",
       "        vertical-align: top;\n",
       "    }\n",
       "\n",
       "    .dataframe thead th {\n",
       "        text-align: right;\n",
       "    }\n",
       "</style>\n",
       "<table border=\"1\" class=\"dataframe\">\n",
       "  <thead>\n",
       "    <tr style=\"text-align: right;\">\n",
       "      <th></th>\n",
       "      <th>0</th>\n",
       "      <th>1</th>\n",
       "    </tr>\n",
       "  </thead>\n",
       "  <tbody>\n",
       "    <tr>\n",
       "      <th>0</th>\n",
       "      <td>0.050232</td>\n",
       "      <td>0.798421</td>\n",
       "    </tr>\n",
       "    <tr>\n",
       "      <th>1</th>\n",
       "      <td>0.968583</td>\n",
       "      <td>0.248690</td>\n",
       "    </tr>\n",
       "    <tr>\n",
       "      <th>2</th>\n",
       "      <td>-0.876307</td>\n",
       "      <td>0.481754</td>\n",
       "    </tr>\n",
       "    <tr>\n",
       "      <th>3</th>\n",
       "      <td>-0.583175</td>\n",
       "      <td>0.547638</td>\n",
       "    </tr>\n",
       "    <tr>\n",
       "      <th>4</th>\n",
       "      <td>-0.428661</td>\n",
       "      <td>0.675462</td>\n",
       "    </tr>\n",
       "  </tbody>\n",
       "</table>\n",
       "</div>"
      ],
      "text/plain": [
       "          0         1\n",
       "0  0.050232  0.798421\n",
       "1  0.968583  0.248690\n",
       "2 -0.876307  0.481754\n",
       "3 -0.583175  0.547638\n",
       "4 -0.428661  0.675462"
      ]
     },
     "execution_count": 18,
     "metadata": {},
     "output_type": "execute_result"
    }
   ],
   "source": [
    "inputData.head()"
   ]
  },
  {
   "cell_type": "code",
   "execution_count": 49,
   "metadata": {},
   "outputs": [
    {
     "data": {
      "text/plain": [
       "<matplotlib.collections.PathCollection at 0x1a555ff9af0>"
      ]
     },
     "execution_count": 49,
     "metadata": {},
     "output_type": "execute_result"
    },
    {
     "data": {
      "image/png": "[encoded data removed]",
      "text/plain": [
       "<Figure size 432x288 with 1 Axes>"
      ]
     },
     "metadata": {
      "needs_background": "light"
     },
     "output_type": "display_data"
    }
   ],
   "source": [
    "plt.scatter(inputData[0], inputData[1])"
   ]
  },
  {
   "cell_type": "code",
   "execution_count": 19,
   "metadata": {},
   "outputs": [
    {
     "data": {
      "text/html": [
       "<div>\n",
       "<style scoped>\n",
       "    .dataframe tbody tr th:only-of-type {\n",
       "        vertical-align: middle;\n",
       "    }\n",
       "\n",
       "    .dataframe tbody tr th {\n",
       "        vertical-align: top;\n",
       "    }\n",
       "\n",
       "    .dataframe thead th {\n",
       "        text-align: right;\n",
       "    }\n",
       "</style>\n",
       "<table border=\"1\" class=\"dataframe\">\n",
       "  <thead>\n",
       "    <tr style=\"text-align: right;\">\n",
       "      <th></th>\n",
       "      <th>0</th>\n",
       "    </tr>\n",
       "  </thead>\n",
       "  <tbody>\n",
       "    <tr>\n",
       "      <th>0</th>\n",
       "      <td>1</td>\n",
       "    </tr>\n",
       "    <tr>\n",
       "      <th>1</th>\n",
       "      <td>0</td>\n",
       "    </tr>\n",
       "    <tr>\n",
       "      <th>2</th>\n",
       "      <td>0</td>\n",
       "    </tr>\n",
       "    <tr>\n",
       "      <th>3</th>\n",
       "      <td>1</td>\n",
       "    </tr>\n",
       "    <tr>\n",
       "      <th>4</th>\n",
       "      <td>1</td>\n",
       "    </tr>\n",
       "  </tbody>\n",
       "</table>\n",
       "</div>"
      ],
      "text/plain": [
       "   0\n",
       "0  1\n",
       "1  0\n",
       "2  0\n",
       "3  1\n",
       "4  1"
      ]
     },
     "execution_count": 19,
     "metadata": {},
     "output_type": "execute_result"
    }
   ],
   "source": [
    "outputData = pd.DataFrame(data = data_[1])\n",
    "outputData.head()"
   ]
  },
  {
   "cell_type": "code",
   "execution_count": 50,
   "metadata": {},
   "outputs": [
    {
     "data": {
      "text/plain": [
       "<matplotlib.collections.PathCollection at 0x1a55585c940>"
      ]
     },
     "execution_count": 50,
     "metadata": {},
     "output_type": "execute_result"
    },
    {
     "data": {
      "image/png": "[encoded data removed]",
      "text/plain": [
       "<Figure size 432x288 with 1 Axes>"
      ]
     },
     "metadata": {
      "needs_background": "light"
     },
     "output_type": "display_data"
    }
   ],
   "source": [
    "plt.scatter(inputData[0], inputData[1], c = outputData)"
   ]
  },
  {
   "cell_type": "code",
   "execution_count": null,
   "metadata": {},
   "outputs": [],
   "source": []
  },
  {
   "cell_type": "code",
   "execution_count": 43,
   "metadata": {},
   "outputs": [
    {
     "data": {
      "text/plain": [
       "KMeans(n_clusters=5)"
      ]
     },
     "execution_count": 43,
     "metadata": {},
     "output_type": "execute_result"
    }
   ],
   "source": [
    "from sklearn.cluster import KMeans\n",
    "\n",
    "model = KMeans(n_clusters=5)\n",
    "model.fit(inputData)\n",
    "#model_fit\n",
    "\n"
   ]
  },
  {
   "cell_type": "code",
   "execution_count": 44,
   "metadata": {},
   "outputs": [
    {
     "data": {
      "text/plain": [
       "array([0, 2, 4, 4, 4, 2, 4, 2, 1, 3, 2, 0, 1, 0, 4, 0, 4, 1, 2, 0, 3, 2,\n",
       "       2, 0, 1, 1, 0, 4, 1, 4, 4, 3, 0, 0, 1, 4, 0, 1, 1, 3, 2, 4, 0, 3,\n",
       "       3, 2, 3, 3, 1, 3, 1, 0, 0, 4, 1, 2, 3, 4, 3, 2, 0, 0, 4, 1, 0, 0,\n",
       "       3, 4, 2, 3, 2, 3, 0, 1, 2, 1, 3, 3, 1, 4, 4, 2, 2, 0, 2, 0, 2, 1,\n",
       "       3, 3, 4, 0, 2, 1, 0, 2, 1, 1, 2, 2])"
      ]
     },
     "execution_count": 44,
     "metadata": {},
     "output_type": "execute_result"
    }
   ],
   "source": [
    "model.labels_"
   ]
  },
  {
   "cell_type": "code",
   "execution_count": 45,
   "metadata": {},
   "outputs": [],
   "source": [
    "from sklearn import metrics"
   ]
  },
  {
   "cell_type": "code",
   "execution_count": 46,
   "metadata": {},
   "outputs": [
    {
     "data": {
      "text/plain": [
       "0.4438653970334698"
      ]
     },
     "execution_count": 46,
     "metadata": {},
     "output_type": "execute_result"
    }
   ],
   "source": [
    "metrics.silhouette_score(inputData, model.labels_)"
   ]
  },
  {
   "cell_type": "code",
   "execution_count": 51,
   "metadata": {},
   "outputs": [
    {
     "data": {
      "text/plain": [
       "<matplotlib.collections.PathCollection at 0x1a555e33340>"
      ]
     },
     "execution_count": 51,
     "metadata": {},
     "output_type": "execute_result"
    },
    {
     "data": {
      "image/png": "[encoded data removed]",
      "text/plain": [
       "<Figure size 432x288 with 1 Axes>"
      ]
     },
     "metadata": {
      "needs_background": "light"
     },
     "output_type": "display_data"
    }
   ],
   "source": [
    "plt.scatter(inputData[0], inputData[1], c = model.labels_)"
   ]
  },
  {
   "cell_type": "markdown",
   "metadata": {},
   "source": [
    "#### finding right number of cluster"
   ]
  },
  {
   "cell_type": "code",
   "execution_count": 36,
   "metadata": {},
   "outputs": [],
   "source": [
    "cluster_range = range(1, 20)\n",
    "error_list = []\n",
    "\n",
    "for i in cluster_range:\n",
    "    model = KMeans(n_clusters=i)\n",
    "    model.fit(inputData)\n",
    "    res = model.inertia_\n",
    "    error_list.append(res)"
   ]
  },
  {
   "cell_type": "code",
   "execution_count": 37,
   "metadata": {},
   "outputs": [
    {
     "data": {
      "image/png": "[encoded data removed]",
      "text/plain": [
       "<Figure size 432x288 with 1 Axes>"
      ]
     },
     "metadata": {
      "needs_background": "light"
     },
     "output_type": "display_data"
    }
   ],
   "source": [
    "import matplotlib.pyplot as plt\n",
    "\n",
    "plt.plot(cluster_range, error_list, marker = \"o\", color = \"g\", markersize = 10)\n",
    "plt.xlabel(\"Cluster Range\")\n",
    "plt.ylabel(\"IntraCluster Sum\")\n",
    "plt.title(\"KMeans\")\n",
    "plt.show()"
   ]
  },
  {
   "cell_type": "code",
   "execution_count": null,
   "metadata": {},
   "outputs": [],
   "source": []
  },
  {
   "cell_type": "code",
   "execution_count": null,
   "metadata": {},
   "outputs": [],
   "source": []
  }
 ],
 "metadata": {
  "kernelspec": {
   "display_name": "Python 3",
   "language": "python",
   "name": "python3"
  },
  "language_info": {
   "codemirror_mode": {
    "name": "ipython",
    "version": 3
   },
   "file_extension": ".py",
   "mimetype": "text/x-python",
   "name": "python",
   "nbconvert_exporter": "python",
   "pygments_lexer": "ipython3",
   "version": "3.8.3"
  }
 },
 "nbformat": 4,
 "nbformat_minor": 4
}
